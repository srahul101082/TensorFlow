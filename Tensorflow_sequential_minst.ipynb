{
  "nbformat": 4,
  "nbformat_minor": 0,
  "metadata": {
    "colab": {
      "name": "Tensorflow_sequential_minst.ipynb",
      "provenance": [],
      "authorship_tag": "ABX9TyPrgEuckXhmx+Q9x/kTVn21",
      "include_colab_link": true
    },
    "kernelspec": {
      "name": "python3",
      "display_name": "Python 3"
    }
  },
  "cells": [
    {
      "cell_type": "markdown",
      "metadata": {
        "id": "view-in-github",
        "colab_type": "text"
      },
      "source": [
        "<a href=\"https://colab.research.google.com/github/srahul101082/TensorFlow/blob/master/Tensorflow_sequential_minst.ipynb\" target=\"_parent\"><img src=\"https://colab.research.google.com/assets/colab-badge.svg\" alt=\"Open In Colab\"/></a>"
      ]
    },
    {
      "cell_type": "code",
      "metadata": {
        "colab": {
          "base_uri": "https://localhost:8080/"
        },
        "id": "2IwvyDEYgmIK",
        "outputId": "11da2cde-4879-4dfb-ea22-1b74831646c3"
      },
      "source": [
        "import tensorflow as tf\n",
        "from tensorflow import keras\n",
        "from tensorflow.keras import layers\n",
        "from tensorflow.keras.datasets import mnist\n",
        "print(tf.__version__)"
      ],
      "execution_count": 5,
      "outputs": [
        {
          "output_type": "stream",
          "text": [
            "2.4.0\n"
          ],
          "name": "stdout"
        }
      ]
    },
    {
      "cell_type": "code",
      "metadata": {
        "colab": {
          "base_uri": "https://localhost:8080/"
        },
        "id": "ahddMjYchEWI",
        "outputId": "6a8f75f9-fafa-4c99-d62d-f1788f69a30a"
      },
      "source": [
        "(x_train,y_train),(x_test,y_test)=mnist.load_data()\n",
        "print(x_train.shape)\n",
        "print(x_test.shape)"
      ],
      "execution_count": 9,
      "outputs": [
        {
          "output_type": "stream",
          "text": [
            "(60000, 28, 28)\n",
            "(10000, 28, 28)\n"
          ],
          "name": "stdout"
        }
      ]
    },
    {
      "cell_type": "code",
      "metadata": {
        "id": "kFat5-SLjJ6Q"
      },
      "source": [
        "x_train=x_train.reshape(-1,28*28).astype(\"float32\")/255\n",
        "x_test=x_test.reshape(-1,28*28).astype(\"float32\")/255"
      ],
      "execution_count": 10,
      "outputs": []
    },
    {
      "cell_type": "code",
      "metadata": {
        "id": "ji6_8vVMmEr2"
      },
      "source": [
        "model=keras.Sequential([\n",
        "    keras.Input(shape=(28*28)),\n",
        "    layers.Dense(512,activation='relu'),\n",
        "    layers.Dense(256,activation='relu'),\n",
        "    layers.Dense(10)             \n",
        "])"
      ],
      "execution_count": 11,
      "outputs": []
    },
    {
      "cell_type": "code",
      "metadata": {
        "colab": {
          "base_uri": "https://localhost:8080/"
        },
        "id": "HLTw8xhoqq1U",
        "outputId": "18e33447-806f-4fe2-abab-aac515c81bce"
      },
      "source": [
        "print(model.summary())"
      ],
      "execution_count": 17,
      "outputs": [
        {
          "output_type": "stream",
          "text": [
            "Model: \"sequential\"\n",
            "_________________________________________________________________\n",
            "Layer (type)                 Output Shape              Param #   \n",
            "=================================================================\n",
            "dense (Dense)                (None, 512)               401920    \n",
            "_________________________________________________________________\n",
            "dense_1 (Dense)              (None, 256)               131328    \n",
            "_________________________________________________________________\n",
            "dense_2 (Dense)              (None, 10)                2570      \n",
            "=================================================================\n",
            "Total params: 535,818\n",
            "Trainable params: 535,818\n",
            "Non-trainable params: 0\n",
            "_________________________________________________________________\n",
            "None\n"
          ],
          "name": "stdout"
        }
      ]
    },
    {
      "cell_type": "code",
      "metadata": {
        "id": "f7zLm8WZmuFZ"
      },
      "source": [
        "model.compile(\n",
        "  loss=keras.losses.SparseCategoricalCrossentropy(from_logits=True),\n",
        "  optimizer=keras.optimizers.Adam(learning_rate=0.001),\n",
        "  metrics=['accuracy'],\n",
        ")"
      ],
      "execution_count": 15,
      "outputs": []
    },
    {
      "cell_type": "code",
      "metadata": {
        "colab": {
          "base_uri": "https://localhost:8080/"
        },
        "id": "Gk9aMZsCok60",
        "outputId": "05bba928-50ce-482f-cb07-fce1c5b24ec2"
      },
      "source": [
        "model.fit(\n",
        "    x_train,y_train, batch_size=32, epochs=5, verbose=2\n",
        ")\n",
        "model.evaluate(x_test,y_test,batch_size=32, verbose=2)"
      ],
      "execution_count": 16,
      "outputs": [
        {
          "output_type": "stream",
          "text": [
            "Epoch 1/5\n",
            "1875/1875 - 8s - loss: 0.1852 - accuracy: 0.9440\n",
            "Epoch 2/5\n",
            "1875/1875 - 7s - loss: 0.0802 - accuracy: 0.9747\n",
            "Epoch 3/5\n",
            "1875/1875 - 7s - loss: 0.0548 - accuracy: 0.9826\n",
            "Epoch 4/5\n",
            "1875/1875 - 8s - loss: 0.0393 - accuracy: 0.9868\n",
            "Epoch 5/5\n",
            "1875/1875 - 7s - loss: 0.0326 - accuracy: 0.9893\n",
            "313/313 - 1s - loss: 0.0966 - accuracy: 0.9769\n"
          ],
          "name": "stdout"
        },
        {
          "output_type": "execute_result",
          "data": {
            "text/plain": [
              "[0.09661618620157242, 0.9768999814987183]"
            ]
          },
          "metadata": {
            "tags": []
          },
          "execution_count": 16
        }
      ]
    }
  ]
}