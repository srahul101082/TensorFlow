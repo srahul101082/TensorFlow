{
  "nbformat": 4,
  "nbformat_minor": 0,
  "metadata": {
    "colab": {
      "name": "tensorflow_mnist.ipynb",
      "provenance": [],
      "authorship_tag": "ABX9TyNZnLoILmBBM8hoa2+fHNPW",
      "include_colab_link": true
    },
    "kernelspec": {
      "name": "python3",
      "display_name": "Python 3"
    }
  },
  "cells": [
    {
      "cell_type": "markdown",
      "metadata": {
        "id": "view-in-github",
        "colab_type": "text"
      },
      "source": [
        "<a href=\"https://colab.research.google.com/github/srahul101082/TensorFlow/blob/master/tensorflow_mnist.ipynb\" target=\"_parent\"><img src=\"https://colab.research.google.com/assets/colab-badge.svg\" alt=\"Open In Colab\"/></a>"
      ]
    },
    {
      "cell_type": "code",
      "metadata": {
        "colab": {
          "base_uri": "https://localhost:8080/"
        },
        "id": "ojqFIbyaAO54",
        "outputId": "b7019c52-98ff-41bc-8e0b-f18699eb62c9"
      },
      "source": [
        "import tensorflow as tf\n",
        "import numpy as np\n",
        "\n",
        "print(tf.__version__)"
      ],
      "execution_count": 1,
      "outputs": [
        {
          "output_type": "stream",
          "text": [
            "2.4.0\n"
          ],
          "name": "stdout"
        }
      ]
    },
    {
      "cell_type": "code",
      "metadata": {
        "id": "4UY9ag4KBdex"
      },
      "source": [
        "mnist=tf.keras.datasets.mnist\n",
        "(x_train, y_train),(x_test,y_test)=mnist.load_data()\n",
        "x_train,x_test=x_train/255.0, x_test/255.0"
      ],
      "execution_count": 3,
      "outputs": []
    },
    {
      "cell_type": "code",
      "metadata": {
        "id": "TDQ_kq2ECWGx"
      },
      "source": [
        "model=tf.keras.models.Sequential([\n",
        "tf.keras.layers.Flatten(input_shape=(28,28)),  \n",
        "tf.keras.layers.Dense(64,activation='relu'),\n",
        "tf.keras.layers.Dropout(0.2),\n",
        "tf.keras.layers.Dense(10)                   \n",
        "                                  \n",
        "])"
      ],
      "execution_count": 4,
      "outputs": []
    },
    {
      "cell_type": "code",
      "metadata": {
        "colab": {
          "base_uri": "https://localhost:8080/"
        },
        "id": "JDe93PWAEIz-",
        "outputId": "8932359d-2b13-4add-b56a-6ae74a4e0d0a"
      },
      "source": [
        "predictions=model(x_train[:1]).numpy()\n",
        "predictions\n"
      ],
      "execution_count": 8,
      "outputs": [
        {
          "output_type": "execute_result",
          "data": {
            "text/plain": [
              "array([[ 0.6412415 ,  0.10944999,  0.7705423 ,  0.1718799 ,  0.03215746,\n",
              "         0.3701129 , -0.15424056, -0.71416974, -0.13750933, -0.15597378]],\n",
              "      dtype=float32)"
            ]
          },
          "metadata": {
            "tags": []
          },
          "execution_count": 8
        }
      ]
    },
    {
      "cell_type": "code",
      "metadata": {
        "colab": {
          "base_uri": "https://localhost:8080/"
        },
        "id": "qQrcUkdJERRE",
        "outputId": "696f1462-a2d2-479b-896e-0a4a83d9230c"
      },
      "source": [
        "tf.nn.softmax(predictions).numpy()"
      ],
      "execution_count": 9,
      "outputs": [
        {
          "output_type": "execute_result",
          "data": {
            "text/plain": [
              "array([[0.15933417, 0.09361702, 0.18132745, 0.09964781, 0.08665369,\n",
              "        0.12149524, 0.07191765, 0.04108291, 0.07313103, 0.0717931 ]],\n",
              "      dtype=float32)"
            ]
          },
          "metadata": {
            "tags": []
          },
          "execution_count": 9
        }
      ]
    },
    {
      "cell_type": "code",
      "metadata": {
        "id": "nS_erGAqFfmG"
      },
      "source": [
        "loss_fn=tf.keras.losses.SparseCategoricalCrossentropy(from_logits=True)"
      ],
      "execution_count": 10,
      "outputs": []
    },
    {
      "cell_type": "code",
      "metadata": {
        "id": "teXQ0qF7GxCq",
        "outputId": "0edcd399-13a8-470d-d4e9-5723fda05305",
        "colab": {
          "base_uri": "https://localhost:8080/"
        }
      },
      "source": [
        "loss_fn(y_train[:1], predictions).numpy()"
      ],
      "execution_count": 11,
      "outputs": [
        {
          "output_type": "execute_result",
          "data": {
            "text/plain": [
              "2.10788"
            ]
          },
          "metadata": {
            "tags": []
          },
          "execution_count": 11
        }
      ]
    },
    {
      "cell_type": "code",
      "metadata": {
        "id": "fPNX0T8YG33-"
      },
      "source": [
        "model.compile(optimizer='adam',\n",
        "              loss=loss_fn,\n",
        "              metrics='accuracy')"
      ],
      "execution_count": 12,
      "outputs": []
    },
    {
      "cell_type": "code",
      "metadata": {
        "id": "J0-LrbSaG4qD",
        "outputId": "01f007ba-5b61-4bb7-a10a-0f05d7767eb8",
        "colab": {
          "base_uri": "https://localhost:8080/"
        }
      },
      "source": [
        "model.fit(x_train, y_train, epochs=5,verbose=1)"
      ],
      "execution_count": 13,
      "outputs": [
        {
          "output_type": "stream",
          "text": [
            "Epoch 1/5\n",
            "1875/1875 [==============================] - 3s 2ms/step - loss: 0.5689 - accuracy: 0.8327\n",
            "Epoch 2/5\n",
            "1875/1875 [==============================] - 3s 1ms/step - loss: 0.2041 - accuracy: 0.9397\n",
            "Epoch 3/5\n",
            "1875/1875 [==============================] - 3s 1ms/step - loss: 0.1589 - accuracy: 0.9529\n",
            "Epoch 4/5\n",
            "1875/1875 [==============================] - 3s 1ms/step - loss: 0.1318 - accuracy: 0.9600\n",
            "Epoch 5/5\n",
            "1875/1875 [==============================] - 3s 1ms/step - loss: 0.1153 - accuracy: 0.9643\n"
          ],
          "name": "stdout"
        },
        {
          "output_type": "execute_result",
          "data": {
            "text/plain": [
              "<tensorflow.python.keras.callbacks.History at 0x7f8f07d56518>"
            ]
          },
          "metadata": {
            "tags": []
          },
          "execution_count": 13
        }
      ]
    },
    {
      "cell_type": "code",
      "metadata": {
        "id": "NQXXzoVmHrKj",
        "outputId": "f99bf426-3841-49f0-e9c5-c2aea1323bae",
        "colab": {
          "base_uri": "https://localhost:8080/"
        }
      },
      "source": [
        "model.evaluate(x_test,y_test, verbose=2)"
      ],
      "execution_count": 14,
      "outputs": [
        {
          "output_type": "stream",
          "text": [
            "313/313 - 0s - loss: 0.0973 - accuracy: 0.9699\n"
          ],
          "name": "stdout"
        },
        {
          "output_type": "execute_result",
          "data": {
            "text/plain": [
              "[0.09728208929300308, 0.9699000120162964]"
            ]
          },
          "metadata": {
            "tags": []
          },
          "execution_count": 14
        }
      ]
    },
    {
      "cell_type": "code",
      "metadata": {
        "id": "f-5J7H3sHzVx"
      },
      "source": [
        "probability_model = tf.keras.Sequential([\n",
        "  model,\n",
        "  tf.keras.layers.Softmax()\n",
        "])"
      ],
      "execution_count": 15,
      "outputs": []
    },
    {
      "cell_type": "code",
      "metadata": {
        "id": "zApGoVEeIDjM",
        "outputId": "6204861d-6a4d-42f4-ffa5-9cd816c2b9c3",
        "colab": {
          "base_uri": "https://localhost:8080/"
        }
      },
      "source": [
        "probability_model(x_test[:5])"
      ],
      "execution_count": 16,
      "outputs": [
        {
          "output_type": "execute_result",
          "data": {
            "text/plain": [
              "<tf.Tensor: shape=(5, 10), dtype=float32, numpy=\n",
              "array([[4.9056831e-07, 3.6471221e-08, 9.2840683e-06, 3.1086174e-04,\n",
              "        1.1767537e-10, 3.2104884e-07, 2.2404965e-14, 9.9966717e-01,\n",
              "        7.8822254e-08, 1.1695002e-05],\n",
              "       [3.9739740e-07, 6.7046203e-05, 9.9977475e-01, 1.3922641e-04,\n",
              "        4.0727703e-15, 1.0360494e-05, 6.8276208e-06, 3.6176676e-11,\n",
              "        1.4374542e-06, 5.5242811e-13],\n",
              "       [1.9074675e-07, 9.9909949e-01, 1.5234796e-04, 7.4167925e-05,\n",
              "        1.1577212e-05, 2.0652846e-05, 1.2698841e-05, 3.5995766e-04,\n",
              "        2.6619766e-04, 2.7574417e-06],\n",
              "       [9.9981171e-01, 1.9344550e-10, 1.7146882e-05, 2.3909041e-07,\n",
              "        6.0384281e-08, 1.8965917e-05, 2.2454211e-05, 1.2897106e-04,\n",
              "        7.6306392e-08, 3.6741500e-07],\n",
              "       [1.9909842e-04, 2.6982105e-08, 1.0388353e-04, 2.6247676e-06,\n",
              "        9.8588043e-01, 2.6970132e-05, 7.0701084e-05, 2.6743041e-04,\n",
              "        1.3475431e-05, 1.3435352e-02]], dtype=float32)>"
            ]
          },
          "metadata": {
            "tags": []
          },
          "execution_count": 16
        }
      ]
    },
    {
      "cell_type": "code",
      "metadata": {
        "id": "M6_jNGfeIIKD"
      },
      "source": [
        ""
      ],
      "execution_count": null,
      "outputs": []
    }
  ]
}