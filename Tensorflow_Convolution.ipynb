{
  "nbformat": 4,
  "nbformat_minor": 0,
  "metadata": {
    "colab": {
      "name": "Tensorflow_Convolution.ipynb",
      "provenance": [],
      "authorship_tag": "ABX9TyOE++MM0ALmAAUVc2I4db7/",
      "include_colab_link": true
    },
    "kernelspec": {
      "name": "python3",
      "display_name": "Python 3"
    },
    "accelerator": "GPU"
  },
  "cells": [
    {
      "cell_type": "markdown",
      "metadata": {
        "id": "view-in-github",
        "colab_type": "text"
      },
      "source": [
        "<a href=\"https://colab.research.google.com/github/srahul101082/TensorFlow/blob/master/Tensorflow_Convolution.ipynb\" target=\"_parent\"><img src=\"https://colab.research.google.com/assets/colab-badge.svg\" alt=\"Open In Colab\"/></a>"
      ]
    },
    {
      "cell_type": "code",
      "metadata": {
        "id": "4dxplownd9Z0"
      },
      "source": [
        "import tensorflow as tf\n",
        "from tensorflow import keras\n",
        "from tensorflow.keras import layers\n",
        "from tensorflow.keras.datasets import cifar100"
      ],
      "execution_count": 1,
      "outputs": []
    },
    {
      "cell_type": "code",
      "metadata": {
        "colab": {
          "base_uri": "https://localhost:8080/"
        },
        "id": "5IhkyAEMiShy",
        "outputId": "a935405d-6049-439a-ce70-4cb1c6f95396"
      },
      "source": [
        "#physical_devices=tf.config.list_physical_devices('GPU')\n",
        "#physical_devices\n",
        "#tf.config.experimental.set_memory_growth(physical_devices[0], True)"
      ],
      "execution_count": 5,
      "outputs": [
        {
          "output_type": "execute_result",
          "data": {
            "text/plain": [
              "[]"
            ]
          },
          "metadata": {
            "tags": []
          },
          "execution_count": 5
        }
      ]
    },
    {
      "cell_type": "code",
      "metadata": {
        "id": "0T_EM09tnE0t"
      },
      "source": [
        ""
      ],
      "execution_count": null,
      "outputs": []
    },
    {
      "cell_type": "code",
      "metadata": {
        "id": "musotDX1kIv0",
        "outputId": "6d34472d-ed48-4134-ee0f-a019c0edf26e",
        "colab": {
          "base_uri": "https://localhost:8080/",
          "height": 35
        }
      },
      "source": [
        "tf.test.gpu_device_name()"
      ],
      "execution_count": 2,
      "outputs": [
        {
          "output_type": "execute_result",
          "data": {
            "application/vnd.google.colaboratory.intrinsic+json": {
              "type": "string"
            },
            "text/plain": [
              "'/device:GPU:0'"
            ]
          },
          "metadata": {
            "tags": []
          },
          "execution_count": 2
        }
      ]
    },
    {
      "cell_type": "code",
      "metadata": {
        "colab": {
          "base_uri": "https://localhost:8080/"
        },
        "id": "e6y85fU8jVsV",
        "outputId": "ebd4b4b0-1b2f-4ebf-a5c5-7626fa8dbcb5"
      },
      "source": [
        "(x_train, y_train), (x_test,y_test)=cifar100.load_data()\n",
        "x_train=x_train.astype('float32')/255.0\n",
        "x_test=x_test.astype('float32')/255.0"
      ],
      "execution_count": 3,
      "outputs": [
        {
          "output_type": "stream",
          "text": [
            "Downloading data from https://www.cs.toronto.edu/~kriz/cifar-100-python.tar.gz\n",
            "169009152/169001437 [==============================] - 13s 0us/step\n"
          ],
          "name": "stdout"
        }
      ]
    },
    {
      "cell_type": "code",
      "metadata": {
        "id": "xIdkdPf9lBpd"
      },
      "source": [
        "model=keras.Sequential([\n",
        " keras.Input(Shape(32,32,3)),\n",
        " layers.Conv2D(32,3,padding='valid',activation='relu')\n",
        " layers.maxPooling2D(pool_size=(2,2))\n",
        "\n",
        " layers.Conv2D(64,3,padding='valid',activation='relu')\n",
        " layers.maxPooling2D()\n",
        "\n",
        " layers.Conv2D(128,3,padding='valid',activation='relu')\n",
        " layers.Flatten()\n",
        "\n",
        " layers.Dense(64, activation='relu')\n",
        " layers.Dense(10)\n",
        "])"
      ],
      "execution_count": null,
      "outputs": []
    }
  ]
}