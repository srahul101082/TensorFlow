{
  "nbformat": 4,
  "nbformat_minor": 0,
  "metadata": {
    "colab": {
      "name": "Tensorflow_Conv.ipynb",
      "provenance": [],
      "authorship_tag": "ABX9TyOHKmgqQUgneYVY5mfpnOyj",
      "include_colab_link": true
    },
    "kernelspec": {
      "name": "python3",
      "display_name": "Python 3"
    },
    "accelerator": "GPU"
  },
  "cells": [
    {
      "cell_type": "markdown",
      "metadata": {
        "id": "view-in-github",
        "colab_type": "text"
      },
      "source": [
        "<a href=\"https://colab.research.google.com/github/srahul101082/TensorFlow/blob/master/Tensorflow_Conv.ipynb\" target=\"_parent\"><img src=\"https://colab.research.google.com/assets/colab-badge.svg\" alt=\"Open In Colab\"/></a>"
      ]
    },
    {
      "cell_type": "code",
      "metadata": {
        "id": "4dxplownd9Z0"
      },
      "source": [
        "import tensorflow as tf\n",
        "from tensorflow import keras\n",
        "from tensorflow.keras import layers\n",
        "from tensorflow.keras.datasets import cifar10"
      ],
      "execution_count": 3,
      "outputs": []
    },
    {
      "cell_type": "code",
      "metadata": {
        "id": "5IhkyAEMiShy",
        "colab": {
          "base_uri": "https://localhost:8080/"
        },
        "outputId": "4730e66d-8219-42c2-f965-af658214d0ad"
      },
      "source": [
        "physical_devices=tf.config.list_physical_devices('GPU')\n",
        "tf.config.experimental.set_memory_growth(physical_devices[0], True)\n",
        "physical_devices"
      ],
      "execution_count": 6,
      "outputs": [
        {
          "output_type": "execute_result",
          "data": {
            "text/plain": [
              "[PhysicalDevice(name='/physical_device:GPU:0', device_type='GPU')]"
            ]
          },
          "metadata": {
            "tags": []
          },
          "execution_count": 6
        }
      ]
    },
    {
      "cell_type": "code",
      "metadata": {
        "id": "e6y85fU8jVsV",
        "colab": {
          "base_uri": "https://localhost:8080/"
        },
        "outputId": "9adef2a9-efcb-4db6-ad6d-d31ea6980203"
      },
      "source": [
        "(x_train, y_train), (x_test,y_test)=cifar10.load_data()\n",
        "x_train=x_train.astype('float32')/255.0\n",
        "x_test=x_test.astype('float32')/255.0\n"
      ],
      "execution_count": 7,
      "outputs": [
        {
          "output_type": "stream",
          "text": [
            "Downloading data from https://www.cs.toronto.edu/~kriz/cifar-10-python.tar.gz\n",
            "170500096/170498071 [==============================] - 13s 0us/step\n"
          ],
          "name": "stdout"
        }
      ]
    },
    {
      "cell_type": "code",
      "metadata": {
        "id": "hFzhd6BmWFIA"
      },
      "source": [
        "model=keras.Sequential([\n",
        "    keras.Input(shape=(32,32,3)),\n",
        "    layers.Conv2D(32,3, padding='valid', activation='relu'),\n",
        "    layers.MaxPooling2D(pool_size=(2,2)),\n",
        "    layers.Conv2D(128,3,  activation='relu'),\n",
        "    layers.MaxPooling2D(),\n",
        "    layers.Conv2D(128,3,  activation='relu'),\n",
        "    layers.Flatten(),\n",
        "    layers.Dense(64,activation='relu'),\n",
        "    layers.Dense(10)])"
      ],
      "execution_count": 9,
      "outputs": []
    },
    {
      "cell_type": "code",
      "metadata": {
        "id": "en9Qb2WlYAB1",
        "outputId": "fbffbc1e-2559-402f-8d57-f79d0842c051",
        "colab": {
          "base_uri": "https://localhost:8080/"
        }
      },
      "source": [
        "model.summary()"
      ],
      "execution_count": 10,
      "outputs": [
        {
          "output_type": "stream",
          "text": [
            "Model: \"sequential\"\n",
            "_________________________________________________________________\n",
            "Layer (type)                 Output Shape              Param #   \n",
            "=================================================================\n",
            "conv2d (Conv2D)              (None, 30, 30, 32)        896       \n",
            "_________________________________________________________________\n",
            "max_pooling2d (MaxPooling2D) (None, 15, 15, 32)        0         \n",
            "_________________________________________________________________\n",
            "conv2d_1 (Conv2D)            (None, 13, 13, 128)       36992     \n",
            "_________________________________________________________________\n",
            "max_pooling2d_1 (MaxPooling2 (None, 6, 6, 128)         0         \n",
            "_________________________________________________________________\n",
            "conv2d_2 (Conv2D)            (None, 4, 4, 128)         147584    \n",
            "_________________________________________________________________\n",
            "flatten (Flatten)            (None, 2048)              0         \n",
            "_________________________________________________________________\n",
            "dense (Dense)                (None, 64)                131136    \n",
            "_________________________________________________________________\n",
            "dense_1 (Dense)              (None, 10)                650       \n",
            "=================================================================\n",
            "Total params: 317,258\n",
            "Trainable params: 317,258\n",
            "Non-trainable params: 0\n",
            "_________________________________________________________________\n"
          ],
          "name": "stdout"
        }
      ]
    },
    {
      "cell_type": "code",
      "metadata": {
        "id": "-V7DVvKTYG7m"
      },
      "source": [
        "model.compile(\n",
        "    loss=keras.losses.SparseCategoricalCrossentropy(from_logits=True),\n",
        "    optimizer=keras.optimizers.Adam(lr=3e-4),\n",
        "    metrics=['accuracy'],\n",
        ")"
      ],
      "execution_count": 16,
      "outputs": []
    },
    {
      "cell_type": "code",
      "metadata": {
        "id": "UJ9XRjswY1YA",
        "outputId": "ccdaf97d-dedb-471e-f728-b3b6b11bc3fb",
        "colab": {
          "base_uri": "https://localhost:8080/"
        }
      },
      "source": [
        "model.fit(x_train,y_train,batch_size=32,epochs=10,verbose=2)\n",
        "model.evaluate(x_test,y_test, batch_size=32,verbose=2)"
      ],
      "execution_count": 18,
      "outputs": [
        {
          "output_type": "stream",
          "text": [
            "Epoch 1/10\n",
            "1563/1563 - 4s - loss: 0.5879 - accuracy: 0.7963\n",
            "Epoch 2/10\n",
            "1563/1563 - 4s - loss: 0.5530 - accuracy: 0.8090\n",
            "Epoch 3/10\n",
            "1563/1563 - 4s - loss: 0.5184 - accuracy: 0.8208\n",
            "Epoch 4/10\n",
            "1563/1563 - 4s - loss: 0.4829 - accuracy: 0.8332\n",
            "Epoch 5/10\n",
            "1563/1563 - 4s - loss: 0.4503 - accuracy: 0.8448\n",
            "Epoch 6/10\n",
            "1563/1563 - 4s - loss: 0.4146 - accuracy: 0.8556\n",
            "Epoch 7/10\n",
            "1563/1563 - 4s - loss: 0.3881 - accuracy: 0.8652\n",
            "Epoch 8/10\n",
            "1563/1563 - 4s - loss: 0.3607 - accuracy: 0.8748\n",
            "Epoch 9/10\n",
            "1563/1563 - 4s - loss: 0.3304 - accuracy: 0.8859\n",
            "Epoch 10/10\n",
            "1563/1563 - 4s - loss: 0.2997 - accuracy: 0.8969\n",
            "313/313 - 1s - loss: 0.8733 - accuracy: 0.7494\n"
          ],
          "name": "stdout"
        },
        {
          "output_type": "execute_result",
          "data": {
            "text/plain": [
              "[0.8733424544334412, 0.7494000196456909]"
            ]
          },
          "metadata": {
            "tags": []
          },
          "execution_count": 18
        }
      ]
    }
  ]
}