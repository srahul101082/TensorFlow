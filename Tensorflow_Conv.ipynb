{
  "nbformat": 4,
  "nbformat_minor": 0,
  "metadata": {
    "colab": {
      "name": "Tensorflow_Conv.ipynb",
      "provenance": [],
      "collapsed_sections": [],
      "authorship_tag": "ABX9TyNPe4e/d5vz9afMFgyv4U3h",
      "include_colab_link": true
    },
    "kernelspec": {
      "name": "python3",
      "display_name": "Python 3"
    },
    "accelerator": "GPU"
  },
  "cells": [
    {
      "cell_type": "markdown",
      "metadata": {
        "id": "view-in-github",
        "colab_type": "text"
      },
      "source": [
        "<a href=\"https://colab.research.google.com/github/srahul101082/TensorFlow/blob/master/Tensorflow_Conv.ipynb\" target=\"_parent\"><img src=\"https://colab.research.google.com/assets/colab-badge.svg\" alt=\"Open In Colab\"/></a>"
      ]
    },
    {
      "cell_type": "code",
      "metadata": {
        "id": "4dxplownd9Z0"
      },
      "source": [
        "import tensorflow as tf\n",
        "from tensorflow import keras\n",
        "from tensorflow.keras import layers\n",
        "from tensorflow.keras.datasets import cifar10"
      ],
      "execution_count": 1,
      "outputs": []
    },
    {
      "cell_type": "code",
      "metadata": {
        "id": "5IhkyAEMiShy",
        "colab": {
          "base_uri": "https://localhost:8080/"
        },
        "outputId": "8d02adae-febf-48dc-8dce-879ee0ee05a6"
      },
      "source": [
        "physical_devices=tf.config.list_physical_devices('GPU')\n",
        "tf.config.experimental.set_memory_growth(physical_devices[0], True)\n",
        "physical_devices"
      ],
      "execution_count": 2,
      "outputs": [
        {
          "output_type": "execute_result",
          "data": {
            "text/plain": [
              "[PhysicalDevice(name='/physical_device:GPU:0', device_type='GPU')]"
            ]
          },
          "metadata": {
            "tags": []
          },
          "execution_count": 2
        }
      ]
    },
    {
      "cell_type": "code",
      "metadata": {
        "id": "e6y85fU8jVsV"
      },
      "source": [
        "(x_train, y_train), (x_test,y_test)=cifar10.load_data()\n",
        "x_train=x_train.astype('float32')/255.0\n",
        "x_test=x_test.astype('float32')/255.0\n"
      ],
      "execution_count": 3,
      "outputs": []
    },
    {
      "cell_type": "code",
      "metadata": {
        "id": "hFzhd6BmWFIA"
      },
      "source": [
        "model=keras.Sequential([\n",
        "    keras.Input(shape=(32,32,3)),\n",
        "    layers.Conv2D(32,3, padding='valid', activation='relu'),\n",
        "    layers.MaxPooling2D(pool_size=(2,2)),\n",
        "    layers.Conv2D(128,3,  activation='relu'),\n",
        "    layers.MaxPooling2D(),\n",
        "    layers.Conv2D(128,3,  activation='relu'),\n",
        "    layers.Flatten(),\n",
        "    layers.Dense(64,activation='relu'),\n",
        "    layers.Dense(10)])"
      ],
      "execution_count": 4,
      "outputs": []
    },
    {
      "cell_type": "code",
      "metadata": {
        "colab": {
          "base_uri": "https://localhost:8080/"
        },
        "id": "en9Qb2WlYAB1",
        "outputId": "9036bdd8-c29f-4be4-8394-8ab70e080280"
      },
      "source": [
        "model.summary()"
      ],
      "execution_count": 5,
      "outputs": [
        {
          "output_type": "stream",
          "text": [
            "Model: \"sequential\"\n",
            "_________________________________________________________________\n",
            "Layer (type)                 Output Shape              Param #   \n",
            "=================================================================\n",
            "conv2d (Conv2D)              (None, 30, 30, 32)        896       \n",
            "_________________________________________________________________\n",
            "max_pooling2d (MaxPooling2D) (None, 15, 15, 32)        0         \n",
            "_________________________________________________________________\n",
            "conv2d_1 (Conv2D)            (None, 13, 13, 128)       36992     \n",
            "_________________________________________________________________\n",
            "max_pooling2d_1 (MaxPooling2 (None, 6, 6, 128)         0         \n",
            "_________________________________________________________________\n",
            "conv2d_2 (Conv2D)            (None, 4, 4, 128)         147584    \n",
            "_________________________________________________________________\n",
            "flatten (Flatten)            (None, 2048)              0         \n",
            "_________________________________________________________________\n",
            "dense (Dense)                (None, 64)                131136    \n",
            "_________________________________________________________________\n",
            "dense_1 (Dense)              (None, 10)                650       \n",
            "=================================================================\n",
            "Total params: 317,258\n",
            "Trainable params: 317,258\n",
            "Non-trainable params: 0\n",
            "_________________________________________________________________\n"
          ],
          "name": "stdout"
        }
      ]
    },
    {
      "cell_type": "code",
      "metadata": {
        "id": "-V7DVvKTYG7m"
      },
      "source": [
        "model.compile(\n",
        "    loss=keras.losses.SparseCategoricalCrossentropy(from_logits=True),\n",
        "    optimizer=keras.optimizers.Adam(lr=0.001),\n",
        "    metrics=['accuracy'],\n",
        ")"
      ],
      "execution_count": 6,
      "outputs": []
    },
    {
      "cell_type": "code",
      "metadata": {
        "colab": {
          "base_uri": "https://localhost:8080/"
        },
        "id": "UJ9XRjswY1YA",
        "outputId": "46ee02f2-5831-4840-d683-e9016641dccb"
      },
      "source": [
        "model.fit(x_train,y_train,batch_size=16,epochs=20,verbose=2)\n",
        "model.evaluate(x_test,y_test, batch_size=32,verbose=2)"
      ],
      "execution_count": 7,
      "outputs": [
        {
          "output_type": "stream",
          "text": [
            "Epoch 1/20\n",
            "3125/3125 - 7s - loss: 1.4244 - accuracy: 0.4842\n",
            "Epoch 2/20\n",
            "3125/3125 - 5s - loss: 1.0212 - accuracy: 0.6405\n",
            "Epoch 3/20\n",
            "3125/3125 - 5s - loss: 0.8660 - accuracy: 0.6975\n",
            "Epoch 4/20\n",
            "3125/3125 - 5s - loss: 0.7590 - accuracy: 0.7359\n",
            "Epoch 5/20\n",
            "3125/3125 - 5s - loss: 0.6789 - accuracy: 0.7635\n",
            "Epoch 6/20\n",
            "3125/3125 - 5s - loss: 0.6108 - accuracy: 0.7877\n",
            "Epoch 7/20\n",
            "3125/3125 - 5s - loss: 0.5419 - accuracy: 0.8095\n",
            "Epoch 8/20\n",
            "3125/3125 - 6s - loss: 0.4860 - accuracy: 0.8292\n",
            "Epoch 9/20\n",
            "3125/3125 - 5s - loss: 0.4304 - accuracy: 0.8480\n",
            "Epoch 10/20\n",
            "3125/3125 - 5s - loss: 0.3798 - accuracy: 0.8648\n",
            "Epoch 11/20\n",
            "3125/3125 - 5s - loss: 0.3408 - accuracy: 0.8794\n",
            "Epoch 12/20\n",
            "3125/3125 - 5s - loss: 0.3058 - accuracy: 0.8909\n",
            "Epoch 13/20\n",
            "3125/3125 - 5s - loss: 0.2703 - accuracy: 0.9045\n",
            "Epoch 14/20\n",
            "3125/3125 - 5s - loss: 0.2462 - accuracy: 0.9114\n",
            "Epoch 15/20\n",
            "3125/3125 - 5s - loss: 0.2244 - accuracy: 0.9197\n",
            "Epoch 16/20\n",
            "3125/3125 - 5s - loss: 0.2040 - accuracy: 0.9261\n",
            "Epoch 17/20\n",
            "3125/3125 - 5s - loss: 0.1936 - accuracy: 0.9321\n",
            "Epoch 18/20\n",
            "3125/3125 - 5s - loss: 0.1775 - accuracy: 0.9375\n",
            "Epoch 19/20\n",
            "3125/3125 - 5s - loss: 0.1693 - accuracy: 0.9409\n",
            "Epoch 20/20\n",
            "3125/3125 - 5s - loss: 0.1514 - accuracy: 0.9471\n",
            "313/313 - 1s - loss: 1.6873 - accuracy: 0.7065\n"
          ],
          "name": "stdout"
        },
        {
          "output_type": "execute_result",
          "data": {
            "text/plain": [
              "[1.6872658729553223, 0.7064999938011169]"
            ]
          },
          "metadata": {
            "tags": []
          },
          "execution_count": 7
        }
      ]
    }
  ]
}